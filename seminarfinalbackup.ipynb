{
 "cells": [
  {
   "cell_type": "code",
   "execution_count": 1,
   "id": "intellectual-delivery",
   "metadata": {},
   "outputs": [],
   "source": [
    "import numpy as np\n",
    "import pandas as pd\n",
    "import matplotlib.pyplot as plt\n",
    "import seaborn as sns"
   ]
  },
  {
   "cell_type": "code",
   "execution_count": 2,
   "id": "compressed-while",
   "metadata": {},
   "outputs": [],
   "source": [
    "#Function definitions"
   ]
  },
  {
   "cell_type": "code",
   "execution_count": 3,
   "id": "cultural-scientist",
   "metadata": {},
   "outputs": [],
   "source": [
    "from sklearn.datasets import load_files\n",
    "\n",
    "def load_train_data():\n",
    "    \n",
    "    '''Load data from csv files, Train data, Splits data into X (feature matrix) and y (labels), \n",
    "    then returns: X_train, y_train'''\n",
    "    \n",
    "    ig_train=pd.read_csv(r\"C:\\Users\\anabh\\Downloads\\train.csv\")\n",
    "    x_train=ig_train.drop(columns='isFake')\n",
    "    y_train=ig_train['isFake']\n",
    "    return x_train, y_train"
   ]
  },
  {
   "cell_type": "code",
   "execution_count": 4,
   "id": "intense-humanitarian",
   "metadata": {},
   "outputs": [],
   "source": [
    "def load_test_data():\n",
    "   \n",
    "    ''' Load data from csv files, Train and Test data \n",
    "        Splits data into X (feature matrix) and y (labels)\n",
    "        \n",
    "        returns: X_test, y_test\n",
    "        \n",
    "    '''\n",
    "    \n",
    "    ig_test=pd.read_csv(r\"C:\\Users\\anabh\\Downloads\\test.csv\")\n",
    "    x_test=ig_test.drop(columns='isFake')\n",
    "    y_test=ig_test['isFake']\n",
    "    return x_test, y_test"
   ]
  },
  {
   "cell_type": "code",
   "execution_count": 5,
   "id": "young-technology",
   "metadata": {},
   "outputs": [],
   "source": [
    "from sklearn.model_selection import cross_validate\n",
    "def get_classifier_cv_score(model, x, y, scoring='accuracy', cv=7):\n",
    "    '''Calculate train and validation score of classifier (model) using cross-validation\n",
    "        \n",
    "        \n",
    "        model (sklearn classifier): Classifier to train and evaluate\n",
    "        X (numpy.array or pandas.DataFrame): Feature matrix\n",
    "        y (numpy.array or pandas.Series): Target vector\n",
    "        scoring (str): a scoring string accepted by sklearn.metrics.cross_validate()\n",
    "        cv (int): number of cross-validation folds see sklearn.metrics.cross_validate()\n",
    "        \n",
    "        returns: mean training score, mean validation score\n",
    "    \n",
    "    '''\n",
    "    \n",
    "    scores=cross_validate(model, x, y, cv=cv, scoring=scoring, return_train_score=True)\n",
    "    train_scores=scores['train_score']\n",
    "    val_scores=scores['test_score']\n",
    "    train_mean=np.mean(train_scores)\n",
    "    val_mean=np.mean(val_scores)\n",
    "    return train_mean, val_mean"
   ]
  },
  {
   "cell_type": "code",
   "execution_count": 6,
   "id": "opposite-reset",
   "metadata": {},
   "outputs": [],
   "source": [
    "def print_grid_search_result(grid_search): \n",
    "    #implement function body\n",
    "    \n",
    "    print(grid_search.best_params_)\n",
    "    \n",
    "    best_train=grid_search.cv_results_[\"mean_train_score\"][grid_search.best_index_]\n",
    "    print(\"best mean_train_score: {:.3f}\".format(best_train))\n",
    "    \n",
    "    best_test=grid_search.cv_results_[\"mean_test_score\"][grid_search.best_index_]\n",
    "    print(\"best mean_test_score: {:.3f}\".format(best_test))\n",
    "    \n",
    "#The above code prints best parameters and mean training and validation scores of a grid search object. grid_search (sklearn GridSearchCV): Fitted GridSearchCV object, scores are printed with 3 decimal places."
   ]
  },
  {
   "cell_type": "code",
   "execution_count": 7,
   "id": "cloudy-november",
   "metadata": {},
   "outputs": [],
   "source": [
    "#plot confusion matrix heatmap for final result\n",
    "from sklearn.metrics import confusion_matrix\n",
    "\n",
    "def plot_confusion_matrix(y_actual, y_pred, labels, title=''):\n",
    "    \n",
    "    cmap=sns.color_palette(\"dark:salmon_r\", as_cmap=True) \n",
    "    data=confusion_matrix(y_actual, y_pred)\n",
    "    ax=sns.heatmap(data, annot=True, cbar=False, cmap=cmap, fmt='d', xticklabels=labels, yticklabels=labels)\n",
    "     #cmap:the mapping from data values to color space\n",
    "    #annot: Set to True, to write data values in each cell(annotation)\n",
    "    #cbar: Set to false so that color bar is not drawn\n",
    "    #fmt: string formatting code used while using annotation\n",
    "    #xticklabels, yticklabels: to plot alternate labels as xticklabels\n",
    "    ax.set_title(title)\n",
    "    ax.set_xlabel(\"predicted values\")\n",
    "    ax.set_ylabel(\"actual values\")"
   ]
  },
  {
   "cell_type": "code",
   "execution_count": 8,
   "id": "rolled-beauty",
   "metadata": {},
   "outputs": [],
   "source": [
    "# The above code is used to create a heatmap plot of the confusion matrix.\n",
    "    \n",
    "       #y_actual (pandas.DataSeries or numpy.Array): Ground truth label vector\n",
    "        #y_pred (pandas.DataSeries or numpy.Array): Predicted label vector\n",
    "        #labels (list(str)): Class names used for plotting (ticklabels)\n",
    "        #title (str): Plot title\n",
    "        \n",
    "        #uses sklearn.metrics.confusion_matrix"
   ]
  },
  {
   "cell_type": "code",
   "execution_count": 9,
   "id": "equipped-incident",
   "metadata": {},
   "outputs": [],
   "source": [
    "#Load data"
   ]
  },
  {
   "cell_type": "code",
   "execution_count": 10,
   "id": "engaged-coverage",
   "metadata": {},
   "outputs": [
    {
     "name": "stdout",
     "output_type": "stream",
     "text": [
      "<class 'pandas.core.frame.DataFrame'>\n",
      "RangeIndex: 11998 entries, 0 to 11997\n",
      "Data columns (total 6 columns):\n",
      " #   Column         Non-Null Count  Dtype\n",
      "---  ------         --------------  -----\n",
      " 0   comment_count  11998 non-null  int64\n",
      " 1   retweet_count  11998 non-null  int64\n",
      " 2   post_length    11998 non-null  int64\n",
      " 3   amount_digits  11998 non-null  int64\n",
      " 4   like_count     11998 non-null  int64\n",
      " 5   post_date      11998 non-null  int64\n",
      "dtypes: int64(6)\n",
      "memory usage: 562.5 KB\n",
      "None\n"
     ]
    }
   ],
   "source": [
    "x_data, y_data=load_train_data()\n",
    "print(x_data.info()) #to view the attributes of the data frame created from train dataset"
   ]
  },
  {
   "cell_type": "code",
   "execution_count": 11,
   "id": "effective-indicator",
   "metadata": {},
   "outputs": [
    {
     "data": {
      "text/html": [
       "<div>\n",
       "<style scoped>\n",
       "    .dataframe tbody tr th:only-of-type {\n",
       "        vertical-align: middle;\n",
       "    }\n",
       "\n",
       "    .dataframe tbody tr th {\n",
       "        vertical-align: top;\n",
       "    }\n",
       "\n",
       "    .dataframe thead th {\n",
       "        text-align: right;\n",
       "    }\n",
       "</style>\n",
       "<table border=\"1\" class=\"dataframe\">\n",
       "  <thead>\n",
       "    <tr style=\"text-align: right;\">\n",
       "      <th></th>\n",
       "      <th>comment_count</th>\n",
       "      <th>retweet_count</th>\n",
       "      <th>post_length</th>\n",
       "      <th>amount_digits</th>\n",
       "      <th>like_count</th>\n",
       "      <th>post_date</th>\n",
       "    </tr>\n",
       "  </thead>\n",
       "  <tbody>\n",
       "    <tr>\n",
       "      <th>0</th>\n",
       "      <td>6</td>\n",
       "      <td>0</td>\n",
       "      <td>67</td>\n",
       "      <td>0</td>\n",
       "      <td>0</td>\n",
       "      <td>223820</td>\n",
       "    </tr>\n",
       "    <tr>\n",
       "      <th>1</th>\n",
       "      <td>4</td>\n",
       "      <td>0</td>\n",
       "      <td>49</td>\n",
       "      <td>0</td>\n",
       "      <td>3</td>\n",
       "      <td>361015</td>\n",
       "    </tr>\n",
       "    <tr>\n",
       "      <th>2</th>\n",
       "      <td>12</td>\n",
       "      <td>0</td>\n",
       "      <td>161</td>\n",
       "      <td>3</td>\n",
       "      <td>1</td>\n",
       "      <td>2784</td>\n",
       "    </tr>\n",
       "    <tr>\n",
       "      <th>3</th>\n",
       "      <td>0</td>\n",
       "      <td>0</td>\n",
       "      <td>28</td>\n",
       "      <td>0</td>\n",
       "      <td>0</td>\n",
       "      <td>33919</td>\n",
       "    </tr>\n",
       "    <tr>\n",
       "      <th>4</th>\n",
       "      <td>0</td>\n",
       "      <td>0</td>\n",
       "      <td>86</td>\n",
       "      <td>3</td>\n",
       "      <td>0</td>\n",
       "      <td>21920</td>\n",
       "    </tr>\n",
       "  </tbody>\n",
       "</table>\n",
       "</div>"
      ],
      "text/plain": [
       "   comment_count  retweet_count  post_length  amount_digits  like_count  \\\n",
       "0              6              0           67              0           0   \n",
       "1              4              0           49              0           3   \n",
       "2             12              0          161              3           1   \n",
       "3              0              0           28              0           0   \n",
       "4              0              0           86              3           0   \n",
       "\n",
       "   post_date  \n",
       "0     223820  \n",
       "1     361015  \n",
       "2       2784  \n",
       "3      33919  \n",
       "4      21920  "
      ]
     },
     "execution_count": 11,
     "metadata": {},
     "output_type": "execute_result"
    }
   ],
   "source": [
    "x_data.head() #returns the first 5 rows of the dataframe"
   ]
  },
  {
   "cell_type": "code",
   "execution_count": 12,
   "id": "independent-factory",
   "metadata": {},
   "outputs": [
    {
     "name": "stdout",
     "output_type": "stream",
     "text": [
      "size:  (11998, 6) Type:  <class 'pandas.core.frame.DataFrame'>\n",
      "size:  (11998,) Type:  <class 'pandas.core.series.Series'>\n"
     ]
    }
   ],
   "source": [
    "print(\"size: \", x_data.shape, \"Type: \", type(x_data))#type() returns the datatype\n",
    "print(\"size: \", y_data.shape, \"Type: \", type(y_data))#shape returns a tuple with each index havinh the number of corresponding elements"
   ]
  },
  {
   "cell_type": "code",
   "execution_count": 13,
   "id": "owned-saturn",
   "metadata": {},
   "outputs": [],
   "source": [
    "#In the above output, 576 is the no of array dimensions, and each dimension has 11 elements. The datatype is dataframe"
   ]
  },
  {
   "cell_type": "code",
   "execution_count": 14,
   "id": "needed-platform",
   "metadata": {},
   "outputs": [],
   "source": [
    "#Inspecting data:\n",
    "#Checking correlation in features"
   ]
  },
  {
   "cell_type": "code",
   "execution_count": 15,
   "id": "employed-advocate",
   "metadata": {},
   "outputs": [
    {
     "data": {
      "text/plain": [
       "Text(0.5, 1.0, 'Correlation Heatmap Between Features')"
      ]
     },
     "execution_count": 15,
     "metadata": {},
     "output_type": "execute_result"
    },
    {
     "data": {
      "image/png": "[encoded data removed]",
      "text/plain": [
       "<Figure size 432x288 with 2 Axes>"
      ]
     },
     "metadata": {
      "needs_background": "light"
     },
     "output_type": "display_data"
    }
   ],
   "source": [
    "data_corr=x_data.corr(method='pearson')#corr() is used to find the pairwise correlation of all the columns in the dataframe, pearson method is used to find standard correlation coefficient.\n",
    "ax=sns.heatmap(data_corr, vmin=-1, vmax=1, cmap='YlOrBr')#vmin, vmax are values to anchor the colormap\n",
    "ax.set_title(\"Correlation Heatmap Between Features\")"
   ]
  },
  {
   "cell_type": "code",
   "execution_count": 16,
   "id": "mineral-devil",
   "metadata": {},
   "outputs": [],
   "source": [
    "#There is no correlation among the features, they are roughly around 0 in each feature comparison, except for follows and profile pic, i.e. diagonal values are 1."
   ]
  },
  {
   "cell_type": "code",
   "execution_count": 17,
   "id": "configured-bunch",
   "metadata": {},
   "outputs": [],
   "source": [
    "#Missing any values"
   ]
  },
  {
   "cell_type": "code",
   "execution_count": 18,
   "id": "fixed-morrison",
   "metadata": {},
   "outputs": [
    {
     "name": "stdout",
     "output_type": "stream",
     "text": [
      "comment_count    0\n",
      "retweet_count    0\n",
      "post_length      0\n",
      "amount_digits    0\n",
      "like_count       0\n",
      "post_date        0\n",
      "dtype: int64\n"
     ]
    }
   ],
   "source": [
    "print(x_data.isnull().sum())#removing 0 values"
   ]
  },
  {
   "cell_type": "code",
   "execution_count": 19,
   "id": "hollow-running",
   "metadata": {},
   "outputs": [],
   "source": [
    "#the features are all filled out and we do not need to modify the existing data"
   ]
  },
  {
   "cell_type": "code",
   "execution_count": 20,
   "id": "drawn-location",
   "metadata": {},
   "outputs": [],
   "source": [
    "#Checking if Imbalance in Labels"
   ]
  },
  {
   "cell_type": "code",
   "execution_count": 21,
   "id": "flush-southwest",
   "metadata": {},
   "outputs": [
    {
     "name": "stdout",
     "output_type": "stream",
     "text": [
      "Label:  0 , Frequency:  5399\n",
      "Label:  1 , Frequency:  6599\n"
     ]
    }
   ],
   "source": [
    "unique, freq=np.unique(y_data, return_counts=True)#unique(), to find unique elements in an array, retuen_counts is set to True, so that it returns the number of times each unique itrem appeared in the dataframe\n",
    "\n",
    "for i, j in zip(unique, freq): #zip() creates an iterator where the first item in each passed iterator is paired together, and so on\n",
    "    print(\"Label: \", i, \", Frequency: \", j)"
   ]
  },
  {
   "cell_type": "code",
   "execution_count": 22,
   "id": "fourth-newsletter",
   "metadata": {},
   "outputs": [],
   "source": [
    "#The labels is about 1:1 which means there is no imbalance in the labels."
   ]
  },
  {
   "cell_type": "code",
   "execution_count": 23,
   "id": "operating-drinking",
   "metadata": {},
   "outputs": [],
   "source": [
    "#Create training and test sets(subsets)"
   ]
  },
  {
   "cell_type": "code",
   "execution_count": 24,
   "id": "proper-bench",
   "metadata": {},
   "outputs": [],
   "source": [
    "from sklearn.model_selection import train_test_split\n",
    "x_train, x_test, y_train, y_test=train_test_split(x_data, y_data, test_size=0.2, random_state=37)#size of testing dataset is specified, randomization is controlled while splitting using random_state"
   ]
  },
  {
   "cell_type": "code",
   "execution_count": 25,
   "id": "mental-strengthening",
   "metadata": {},
   "outputs": [
    {
     "name": "stdout",
     "output_type": "stream",
     "text": [
      "(9598,)\n",
      "(9598, 6)\n"
     ]
    }
   ],
   "source": [
    "print(y_train.shape)#prints the no of dimensions and its elements \n",
    "print(x_train.shape)"
   ]
  },
  {
   "cell_type": "code",
   "execution_count": 26,
   "id": "pediatric-faith",
   "metadata": {},
   "outputs": [],
   "source": [
    "#Compare Models Using Cross-Validation"
   ]
  },
  {
   "cell_type": "code",
   "execution_count": 27,
   "id": "academic-patrick",
   "metadata": {},
   "outputs": [
    {
     "name": "stdout",
     "output_type": "stream",
     "text": [
      "----------------------------------------------\n",
      "Model: GradientBoostingClassifier \n",
      "train_score: 0.982 \n",
      "validation_score: 0.978 \n",
      "-------------------------------------------\n",
      "Model: RandomForestClassifier \n",
      "train_score: 1.000 \n",
      "validation_score: 0.974 \n",
      "-------------------------------------------\n",
      "Model: SVC \n",
      "train_score: 0.855 \n",
      "validation_score: 0.855 \n",
      "-------------------------------------------\n",
      "Model: GaussianNB \n",
      "train_score: 0.585 \n",
      "validation_score: 0.586 \n",
      "-------------------------------------------\n",
      "Model: LogisticRegression \n",
      "train_score: 0.565 \n",
      "validation_score: 0.565 \n",
      "-------------------------------------------\n"
     ]
    }
   ],
   "source": [
    "from sklearn.linear_model import LogisticRegression\n",
    "from sklearn.ensemble import RandomForestClassifier, GradientBoostingClassifier\n",
    "from sklearn.svm import SVC\n",
    "from sklearn.naive_bayes import GaussianNB\n",
    "\n",
    "model_list=[LogisticRegression(max_iter=600),\n",
    "           SVC(),\n",
    "           GaussianNB(),\n",
    "           RandomForestClassifier(random_state=55),\n",
    "           GradientBoostingClassifier(random_state=56)]\n",
    "#In logistic regression, the maximum number of iterations taken for solvers to converge is set to 600, by using max_iter\n",
    "\n",
    "train_scores=[] #empty lists\n",
    "val_scores=[]\n",
    "\n",
    "for model in model_list:\n",
    "    train, val=get_classifier_cv_score(model, x_train, y_train, 'average_precision') #average_presision is used to measure the accuracy of predictions\n",
    "    train_scores.append(train)\n",
    "    val_scores.append(val)\n",
    "    \n",
    "models_score=sorted(list(zip(val_scores, train_scores, model_list)), reverse=True) \n",
    "#Setting reverse as True will sort the list of iterators in descending order\n",
    "print(\"----------------------------------------------\") \n",
    "for val, train, model in models_score:\n",
    "    print(\"Model: {} \".format(model.__class__.__name__))#prints the classifier names\n",
    "    \n",
    "    print(\"train_score: {:.3f} \".format(train))#prints train score after performing the above operations\n",
    "    \n",
    "    print(\"validation_score: {:.3f} \".format(val))#prints validation score after performing the above operations\n",
    "    \n",
    "    print(\"-------------------------------------------\")"
   ]
  },
  {
   "cell_type": "code",
   "execution_count": null,
   "id": "bacterial-archive",
   "metadata": {},
   "outputs": [],
   "source": [
    "#Best 2 models are selected i.e. Random Forest Classifier and Gradient Boosting Classifier."
   ]
  },
  {
   "cell_type": "code",
   "execution_count": null,
   "id": "written-subscription",
   "metadata": {},
   "outputs": [],
   "source": [
    "#Hyperparameter Tuning Using Grid Search"
   ]
  },
  {
   "cell_type": "code",
   "execution_count": null,
   "id": "deadly-orbit",
   "metadata": {},
   "outputs": [],
   "source": [
    "#Grid Search for RandomForestClassifier"
   ]
  },
  {
   "cell_type": "code",
   "execution_count": 28,
   "id": "ultimate-middle",
   "metadata": {},
   "outputs": [],
   "source": [
    "from sklearn.model_selection import GridSearchCV\n",
    "import os\n",
    "\n",
    "model=RandomForestClassifier(random_state=55)#To check that the results are stable across a number of different distinct random seeds.\n",
    "parameters={'n_estimators': [600, 1000, 1200, 1500], 'max_depth': [9, 11, 13, 15]} #declaring a dictionary with random keys\n",
    "grid1=GridSearchCV(model, parameters, cv=7, scoring='average_precision', return_train_score=True)"
   ]
  },
  {
   "cell_type": "code",
   "execution_count": 29,
   "id": "stupid-celebrity",
   "metadata": {},
   "outputs": [
    {
     "data": {
      "text/plain": [
       "GridSearchCV(cv=7, estimator=RandomForestClassifier(random_state=55),\n",
       "             param_grid={'max_depth': [9, 11, 13, 15],\n",
       "                         'n_estimators': [600, 1000, 1200, 1500]},\n",
       "             return_train_score=True, scoring='average_precision')"
      ]
     },
     "execution_count": 29,
     "metadata": {},
     "output_type": "execute_result"
    }
   ],
   "source": [
    "grid1.fit(x_train, y_train)"
   ]
  },
  {
   "cell_type": "code",
   "execution_count": 30,
   "id": "honest-intranet",
   "metadata": {},
   "outputs": [],
   "source": [
    "model=GradientBoostingClassifier(max_depth=5, random_state=56)\n",
    "parameters={'n_estimators': [100, 150, 250], 'learning_rate': [0.001, 0.01, 0.1, 1.0, 10.0]}\n",
    "grid2=GridSearchCV(model, parameters, cv=7, scoring='average_precision', return_train_score=True)"
   ]
  },
  {
   "cell_type": "code",
   "execution_count": 31,
   "id": "acquired-savage",
   "metadata": {},
   "outputs": [
    {
     "data": {
      "text/plain": [
       "GridSearchCV(cv=7,\n",
       "             estimator=GradientBoostingClassifier(max_depth=5, random_state=56),\n",
       "             param_grid={'learning_rate': [0.001, 0.01, 0.1, 1.0, 10.0],\n",
       "                         'n_estimators': [100, 150, 250]},\n",
       "             return_train_score=True, scoring='average_precision')"
      ]
     },
     "execution_count": 31,
     "metadata": {},
     "output_type": "execute_result"
    }
   ],
   "source": [
    "grid2.fit(x_train, y_train)"
   ]
  },
  {
   "cell_type": "code",
   "execution_count": 32,
   "id": "continuing-resolution",
   "metadata": {},
   "outputs": [
    {
     "name": "stdout",
     "output_type": "stream",
     "text": [
      "{'learning_rate': 0.1, 'n_estimators': 250}\n",
      "best mean_train_score: 0.997\n",
      "best mean_test_score: 0.982\n"
     ]
    }
   ],
   "source": [
    "print_grid_search_result(grid2)"
   ]
  },
  {
   "cell_type": "code",
   "execution_count": 33,
   "id": "muslim-indianapolis",
   "metadata": {},
   "outputs": [
    {
     "name": "stdout",
     "output_type": "stream",
     "text": [
      "{'max_depth': 15, 'n_estimators': 1500}\n",
      "best mean_train_score: 0.997\n",
      "best mean_test_score: 0.978\n"
     ]
    }
   ],
   "source": [
    "print_grid_search_result(grid1)"
   ]
  },
  {
   "cell_type": "code",
   "execution_count": 231,
   "id": "alone-poland",
   "metadata": {},
   "outputs": [
    {
     "data": {
      "text/plain": [
       "Pipeline(steps=[('preprocessing', StandardScaler()),\n",
       "                ('classifier',\n",
       "                 GradientBoostingClassifier(max_depth=5, n_estimators=200,\n",
       "                                            random_state=56))])"
      ]
     },
     "execution_count": 231,
     "metadata": {},
     "output_type": "execute_result"
    }
   ],
   "source": [
    "from sklearn.pipeline import Pipeline\n",
    "from sklearn.preprocessing import StandardScaler\n",
    "pipeline=Pipeline([('preprocessing', StandardScaler()), ('classifier', grid2.best_estimator_)]) #returns the best n_estimar and max_depth\n",
    "pipeline.fit(x_train, y_train)"
   ]
  },
  {
   "cell_type": "code",
   "execution_count": 232,
   "id": "experimental-justice",
   "metadata": {},
   "outputs": [
    {
     "name": "stdout",
     "output_type": "stream",
     "text": [
      "Test score: 0.936\n"
     ]
    }
   ],
   "source": [
    "print(\"Test score: {:.3f}\".format(pipeline.score(x_test, y_test)))#score() measures the accuracy of the model againts the test data(precision)"
   ]
  },
  {
   "cell_type": "code",
   "execution_count": null,
   "id": "close-sound",
   "metadata": {},
   "outputs": [],
   "source": [
    "#Final evaluation(to do a final evaluation on a reserve data)"
   ]
  },
  {
   "cell_type": "code",
   "execution_count": 233,
   "id": "fifth-basket",
   "metadata": {},
   "outputs": [],
   "source": [
    "x_final, y_final = load_test_data()"
   ]
  },
  {
   "cell_type": "code",
   "execution_count": 234,
   "id": "nasty-emperor",
   "metadata": {},
   "outputs": [
    {
     "name": "stdout",
     "output_type": "stream",
     "text": [
      "              precision    recall  f1-score   support\n",
      "\n",
      "     genuine       0.95      0.87      0.91       300\n",
      "        fake       0.88      0.96      0.92       301\n",
      "\n",
      "    accuracy                           0.92       601\n",
      "   macro avg       0.92      0.92      0.91       601\n",
      "weighted avg       0.92      0.92      0.91       601\n",
      "\n"
     ]
    }
   ],
   "source": [
    "from sklearn.metrics import classification_report\n",
    "y_pred=pipeline.predict(x_final) #predict() enables to predict the labels of the data values on the basis of the trained model\n",
    "print(classification_report(y_final, y_pred, target_names=[\"genuine\", \"fake\"]))"
   ]
  },
  {
   "cell_type": "code",
   "execution_count": 235,
   "id": "physical-criticism",
   "metadata": {},
   "outputs": [
    {
     "data": {
      "image/png": "[encoded data removed]",
      "text/plain": [
       "<Figure size 432x288 with 1 Axes>"
      ]
     },
     "metadata": {
      "needs_background": "light"
     },
     "output_type": "display_data"
    }
   ],
   "source": [
    "labels=[\"genuine\", \"fake\"]\n",
    "title=\"Predicting Fake Social Media Accounts\"\n",
    "plot_confusion_matrix(y_final, y_pred, labels, title)"
   ]
  },
  {
   "cell_type": "code",
   "execution_count": 236,
   "id": "fossil-hybrid",
   "metadata": {},
   "outputs": [
    {
     "data": {
      "text/plain": [
       "Pipeline(steps=[('preprocessing', StandardScaler()),\n",
       "                ('classifier',\n",
       "                 RandomForestClassifier(max_depth=13, n_estimators=700,\n",
       "                                        random_state=55))])"
      ]
     },
     "execution_count": 236,
     "metadata": {},
     "output_type": "execute_result"
    }
   ],
   "source": [
    "from sklearn.pipeline import Pipeline\n",
    "from sklearn.preprocessing import StandardScaler\n",
    "pipeline=Pipeline([('preprocessing', StandardScaler()), ('classifier', grid1.best_estimator_)]) #returns the best n_estimar and max_depth\n",
    "pipeline.fit(x_train, y_train)"
   ]
  },
  {
   "cell_type": "code",
   "execution_count": 237,
   "id": "specialized-output",
   "metadata": {},
   "outputs": [
    {
     "name": "stdout",
     "output_type": "stream",
     "text": [
      "Test score: 0.927\n"
     ]
    }
   ],
   "source": [
    "print(\"Test score: {:.3f}\".format(pipeline.score(x_test, y_test)))"
   ]
  },
  {
   "cell_type": "code",
   "execution_count": 238,
   "id": "unable-magnet",
   "metadata": {},
   "outputs": [],
   "source": [
    "x_final, y_final = load_test_data()"
   ]
  },
  {
   "cell_type": "code",
   "execution_count": 239,
   "id": "offensive-copyright",
   "metadata": {},
   "outputs": [
    {
     "name": "stdout",
     "output_type": "stream",
     "text": [
      "              precision    recall  f1-score   support\n",
      "\n",
      "     genuine       0.96      0.89      0.92       300\n",
      "        fake       0.90      0.96      0.93       301\n",
      "\n",
      "    accuracy                           0.93       601\n",
      "   macro avg       0.93      0.93      0.93       601\n",
      "weighted avg       0.93      0.93      0.93       601\n",
      "\n"
     ]
    }
   ],
   "source": [
    "from sklearn.metrics import classification_report\n",
    "y_pred=pipeline.predict(x_final) #predict() enables to predict the labels of the data values on the basis of the trained model\n",
    "print(classification_report(y_final, y_pred, target_names=[\"genuine\", \"fake\"]))"
   ]
  },
  {
   "cell_type": "code",
   "execution_count": null,
   "id": "varying-attendance",
   "metadata": {},
   "outputs": [],
   "source": [
    "#F1 score is the weighted avg of recall and precision, here it is 0.93, which is close to 1, which is the best value, and 0 is the worst value for F1 score\n",
    "#Here, the F1 score of accuracy of grid 1, i.e, random forest classifier is 0.01 percent more than gradient boosting classifier. \n",
    "#So random forest classifier will be considered for final result"
   ]
  },
  {
   "cell_type": "code",
   "execution_count": 240,
   "id": "mobile-wages",
   "metadata": {},
   "outputs": [
    {
     "data": {
      "image/png": "[encoded data removed]",
      "text/plain": [
       "<Figure size 432x288 with 1 Axes>"
      ]
     },
     "metadata": {
      "needs_background": "light"
     },
     "output_type": "display_data"
    }
   ],
   "source": [
    "labels=[\"genuine\", \"fake\"]\n",
    "title=\"Predicting Fake Social Media Accounts\"\n",
    "plot_confusion_matrix(y_final, y_pred, labels, title)"
   ]
  },
  {
   "cell_type": "code",
   "execution_count": 34,
   "id": "guided-title",
   "metadata": {},
   "outputs": [],
   "source": [
    "#The model predicted around 93% fake accounts and 96% genuine accounts correctly\n",
    "#The model only predicted 44 accounts wrong\n"
   ]
  },
  {
   "cell_type": "code",
   "execution_count": 35,
   "id": "olive-turning",
   "metadata": {},
   "outputs": [
    {
     "ename": "NameError",
     "evalue": "name 'best_train' is not defined",
     "output_type": "error",
     "traceback": [
      "\u001b[1;31m---------------------------------------------------------------------------\u001b[0m",
      "\u001b[1;31mNameError\u001b[0m                                 Traceback (most recent call last)",
      "\u001b[1;32m<ipython-input-35-570eec0b02c4>\u001b[0m in \u001b[0;36m<module>\u001b[1;34m\u001b[0m\n\u001b[1;32m----> 1\u001b[1;33m \u001b[0mbest_train\u001b[0m\u001b[1;33m\u001b[0m\u001b[1;33m\u001b[0m\u001b[0m\n\u001b[0m",
      "\u001b[1;31mNameError\u001b[0m: name 'best_train' is not defined"
     ]
    }
   ],
   "source": [
    "best_train\n"
   ]
  },
  {
   "cell_type": "code",
   "execution_count": null,
   "id": "handled-syntax",
   "metadata": {},
   "outputs": [],
   "source": []
  }
 ],
 "metadata": {
  "kernelspec": {
   "display_name": "Python 3",
   "language": "python",
   "name": "python3"
  },
  "language_info": {
   "codemirror_mode": {
    "name": "ipython",
    "version": 3
   },
   "file_extension": ".py",
   "mimetype": "text/x-python",
   "name": "python",
   "nbconvert_exporter": "python",
   "pygments_lexer": "ipython3",
   "version": "3.8.8"
  }
 },
 "nbformat": 4,
 "nbformat_minor": 5
}
